{
  "nbformat": 4,
  "nbformat_minor": 0,
  "metadata": {
    "colab": {
      "provenance": [],
      "authorship_tag": "ABX9TyMJGwp8v2fU9rMo7/GQpq4X",
      "include_colab_link": true
    },
    "kernelspec": {
      "name": "python3",
      "display_name": "Python 3"
    },
    "language_info": {
      "name": "python"
    }
  },
  "cells": [
    {
      "cell_type": "markdown",
      "metadata": {
        "id": "view-in-github",
        "colab_type": "text"
      },
      "source": [
        "<a href=\"https://colab.research.google.com/github/Thisisantoshh/Natural-language-processing/blob/main/Gemini_AI_Image_Analysis.ipynb\" target=\"_parent\"><img src=\"https://colab.research.google.com/assets/colab-badge.svg\" alt=\"Open In Colab\"/></a>"
      ]
    },
    {
      "cell_type": "code",
      "execution_count": 8,
      "metadata": {
        "id": "5AkYcCKnuJmp"
      },
      "outputs": [],
      "source": [
        "import google.generativeai as genai\n",
        "\n",
        "from google.colab import userdata\n",
        "\n",
        "GOOGLE_API_KEY=userdata.get('GOOGLE_API_KEY')\n",
        "\n",
        "genai.configure(api_key=GOOGLE_API_KEY)"
      ]
    },
    {
      "cell_type": "code",
      "source": [
        "import pathlib\n",
        "\n",
        "import textwrap\n",
        "\n",
        "from IPython.display import display, Markdown\n",
        "\n",
        "def to_markdown(text):\n",
        "\n",
        "  text = text.replace('•', '  *')\n",
        "\n",
        "  return Markdown(textwrap.indent(text, '> ', predicate=lambda _: True))"
      ],
      "metadata": {
        "id": "J9-5QMjyuXai"
      },
      "execution_count": 9,
      "outputs": []
    },
    {
      "cell_type": "code",
      "source": [
        "import PIL.Image\n",
        "\n",
        "img = PIL.Image.open('image1.jpg')\n",
        "\n",
        "img\n",
        "\n",
        "model = genai.GenerativeModel('gemini-1.5-flash')\n",
        "\n",
        "response = model.generate_content([\"Write a short, engaging blog post based on this picture.It should include a description of the meal in the photo and talk about my journey meal prepping.\", img],\n",
        "\n",
        "stream=True)\n",
        "\n",
        "response.resolve()\n",
        "to_markdown(response.text)"
      ],
      "metadata": {
        "colab": {
          "base_uri": "https://localhost:8080/",
          "height": 388
        },
        "id": "u_j6E6msuZCB",
        "outputId": "03a76a2a-44d2-42b1-d1fc-7dfb9cb82512"
      },
      "execution_count": 10,
      "outputs": [
        {
          "output_type": "execute_result",
          "data": {
            "text/plain": [
              "<IPython.core.display.Markdown object>"
            ],
            "text/markdown": "> ## My Meal Prep Journey: From Chaos to Deliciously Organized!\n> \n> Let's be honest, weekday evenings are a whirlwind.  Between work, errands, and everything else life throws at us, the last thing most of us want to do is spend ages slaving over a hot stove. That's why I embraced meal prepping, and let me tell you, it's a game-changer!\n> \n> This week's creation?  These gorgeous containers (shown in the image) are packed with deliciousness: fluffy white rice forms a base, topped with savory teriyaki chicken, vibrant roasted carrots and red peppers, and a generous helping of steamed broccoli.  It's a balanced meal that's both satisfying and healthy – perfect for a quick and nutritious lunch or dinner.\n> \n> My journey with meal prepping wasn't always smooth sailing.  In the beginning, it felt overwhelming.  I'd spend hours in the kitchen on Sunday, only to have my carefully planned meals get lost in the fridge or become bland and unappealing by mid-week.  \n> \n> But I learned a few key things along the way:\n> \n> * **Plan your meals:**  Decide what you'll eat for the week before you even start shopping. This prevents impulse purchases and ensures you have all the ingredients.\n> * **Prep smart:** Don't overcomplicate it!  Start with simple recipes and gradually add more complexity as you get comfortable.\n> * **Invest in good containers:**  Airtight, leak-proof containers are essential to keep your food fresh and prevent spills.  (These glass ones are my current favorites!)\n> * **Variety is key:**  Avoid boredom by prepping a range of meals.  \n> \n> Now, meal prepping is second nature.  It saves me tons of time and money, and best of all, ensures I'm eating healthy, delicious meals all week long.  It's a small investment in time that yields huge benefits.  Want to try it?  Let me know in the comments!\n"
          },
          "metadata": {},
          "execution_count": 10
        }
      ]
    },
    {
      "cell_type": "code",
      "source": [
        "response = model.generate_content([\"Generate an accurate caption for this image.\", img])\n",
        "\n",
        "print(response.text)"
      ],
      "metadata": {
        "colab": {
          "base_uri": "https://localhost:8080/",
          "height": 312
        },
        "id": "Fnspwscxua7P",
        "outputId": "2d9b3097-e587-40b5-e0c4-1d82f9965b5b"
      },
      "execution_count": 11,
      "outputs": [
        {
          "output_type": "stream",
          "name": "stdout",
          "text": [
            "Here's a caption for the image:\n",
            "\n",
            "**Option 1 (Concise):**\n",
            "\n",
            "> Healthy and delicious meal prep!  Chicken and broccoli with rice.\n",
            "\n",
            "**Option 2 (More descriptive):**\n",
            "\n",
            "> Two containers of teriyaki chicken and vegetable stir-fry over rice. Perfect for meal prepping and healthy lunches.\n",
            "\n",
            "**Option 3 (Focus on ease):**\n",
            "\n",
            "> Easy and nutritious meal prep made simple.  This chicken and veggie bowl is ready to go!\n",
            "\n",
            "\n",
            "Choose the option that best suits the context where you'll be using the caption.\n",
            "\n"
          ]
        }
      ]
    },
    {
      "cell_type": "code",
      "source": [
        "from PIL import Image\n",
        "\n",
        "# Open an image\n",
        "\n",
        "image_path = \"girl.jpg\"\n",
        "\n",
        "image = Image.open(image_path)\n",
        "\n",
        "# Generate a description of the image\n",
        "\n",
        "response = model.generate_content([\"Describe this image in detail.\", image])\n",
        "\n",
        "print(response.text)"
      ],
      "metadata": {
        "colab": {
          "base_uri": "https://localhost:8080/",
          "height": 211
        },
        "id": "YXkROThmuftx",
        "outputId": "5a123e3d-e5e3-4de2-f5e1-4d169aa15fc7"
      },
      "execution_count": 12,
      "outputs": [
        {
          "output_type": "stream",
          "name": "stdout",
          "text": [
            "Here's a description of the image:\n",
            "\n",
            "Close-up view of a woman with shoulder-length, curly brown hair. \n",
            "\n",
            "\n",
            "She is smiling and pointing with her right index finger towards something off-camera, suggesting she's directing attention or making a point. Her arms are crossed, with her left arm over her right. She's wearing a teal or turquoise three-quarter-sleeved top with a subtle gold or light-colored pattern on it. The top appears to be made of a relatively lightweight fabric. The pattern is small and somewhat floral or paisley-like. \n",
            "\n",
            "\n",
            "The background is a plain, bright white, which keeps the focus entirely on the woman. The lighting is soft and even, with no harsh shadows. The overall impression is one of a friendly, approachable woman giving a presentation or direction. The woman appears to be of South Asian descent.\n",
            "\n"
          ]
        }
      ]
    },
    {
      "cell_type": "code",
      "source": [
        "response = model.generate_content([\"What emotions can you detect in this image?\", image])\n",
        "\n",
        "print(response.text)"
      ],
      "metadata": {
        "colab": {
          "base_uri": "https://localhost:8080/",
          "height": 173
        },
        "id": "aQS5T7ulugJC",
        "outputId": "e6d37c2d-e91d-4ad2-9707-9986338be5e2"
      },
      "execution_count": 13,
      "outputs": [
        {
          "output_type": "stream",
          "name": "stdout",
          "text": [
            "The woman in the image appears to be expressing:\n",
            "\n",
            "* **Friendliness:** Her smile and the gesture of pointing are inviting and suggest a welcoming demeanor.\n",
            "* **Helpfulness:** The pointing gesture implies she is offering assistance or guidance.\n",
            "* **Confidence:**  Her posture and direct gaze convey self-assurance.\n",
            "* **Happiness/Positivity:** Her smile is genuine and reflects a positive emotional state.\n",
            "\n",
            "There's no indication of negative emotions in this image.\n",
            "\n"
          ]
        }
      ]
    },
    {
      "cell_type": "code",
      "source": [
        "image_path = \"logo1.jpg\"\n",
        "image = Image.open(image_path)\n",
        "#Ask Gemini to recognize the brand/logo\n",
        "response = model.generate_content([\"Identify the brand or company associated with this logo.\",image])\n",
        "print(response.text)"
      ],
      "metadata": {
        "colab": {
          "base_uri": "https://localhost:8080/",
          "height": 52
        },
        "id": "wehgCXm5ukUS",
        "outputId": "92337eff-3abe-4284-e4ac-3a3f3beaa927"
      },
      "execution_count": 14,
      "outputs": [
        {
          "output_type": "stream",
          "name": "stdout",
          "text": [
            "That's the logo for **Amazon**.\n",
            "\n"
          ]
        }
      ]
    },
    {
      "cell_type": "code",
      "source": [
        "image_path = \"product.jpg\"\n",
        "image = Image.open(image_path)\n",
        "#Ask Gemini to recognize the brand/logo\n",
        "response = model.generate_content([\"What product is shown in this image?\",image])\n",
        "print(response.text)"
      ],
      "metadata": {
        "colab": {
          "base_uri": "https://localhost:8080/",
          "height": 52
        },
        "id": "X5sHc-xRul3w",
        "outputId": "6e654ed4-7cdd-427f-e9a4-1aa3a6cabbae"
      },
      "execution_count": 15,
      "outputs": [
        {
          "output_type": "stream",
          "name": "stdout",
          "text": [
            "That's a pair of black over-ear headphones.  They appear to be wireless, judging by the lack of visible wire.\n",
            "\n"
          ]
        }
      ]
    },
    {
      "cell_type": "code",
      "source": [
        "response = model.generate_content([\"Suggest similar products to this one.\",image])\n",
        "print(response.text)"
      ],
      "metadata": {
        "colab": {
          "base_uri": "https://localhost:8080/",
          "height": 471
        },
        "id": "l4-gNLosupU_",
        "outputId": "0e80941c-d3de-46b9-d6eb-faf157fb7b99"
      },
      "execution_count": 16,
      "outputs": [
        {
          "output_type": "stream",
          "name": "stdout",
          "text": [
            "Here are some similar products to the black over-ear headphones shown in the image.  To give you the best suggestions, I need some more information about what aspects of the headphones are important to you.  However, I can suggest some general categories and examples:\n",
            "\n",
            "**Based on Appearance (Over-Ear, Black):**\n",
            "\n",
            "* **Other brands of similar style over-ear headphones:**  Look for over-ear headphones from brands like Sony, Bose, Sennheiser, Audio-Technica, Beats, JBL, Anker Soundcore, and others. Many offer similar designs in black.  Search online retailers (Amazon, Best Buy, etc.) using keywords like \"black over-ear headphones,\" \"noise-canceling headphones black,\" etc.  Pay attention to the size and overall shape of the earcups and headband as this varies across brands.\n",
            "* **Wireless vs. Wired:** The image doesn't show if this is a wired or wireless headphone. Make sure you specify your preference when searching.\n",
            "\n",
            "**Based on Potential Features (need to specify your preferences):**\n",
            "\n",
            "* **Noise-canceling:**  If noise cancellation is important, specify \"noise-canceling headphones\" in your searches.\n",
            "* **Wireless features:** If Bluetooth connectivity is needed, look for \"Bluetooth headphones.\"  Consider features like multipoint pairing (connecting to two devices simultaneously) or codec support (aptX, AAC).\n",
            "* **Sound quality:**  If you prioritize audio quality, read reviews before purchasing. Look for descriptions highlighting things like bass response, clarity, and frequency range.  Headphone reviews often mention this.\n",
            "* **Microphone:** If you'll be using them for calls, check for a built-in microphone and its quality in reviews.\n",
            "* **Comfort and fit:**  Headphone comfort varies greatly. Check reviews mentioning comfort, earcup size, headband pressure, and overall fit.\n",
            "\n",
            "**To get better recommendations, please tell me:**\n",
            "\n",
            "* **Do you need wireless or wired headphones?**\n",
            "* **Is noise cancellation a requirement?**\n",
            "* **What is your budget?**\n",
            "* **What type of audio do you usually listen to? (e.g., podcasts, music, audiobooks)**\n",
            "* **How important is microphone quality (for calls)?**\n",
            "\n",
            "With this information, I can provide more tailored and helpful suggestions.\n",
            "\n"
          ]
        }
      ]
    },
    {
      "cell_type": "code",
      "source": [
        "print(response.text)"
      ],
      "metadata": {
        "colab": {
          "base_uri": "https://localhost:8080/"
        },
        "id": "S9OmNjhwwTEF",
        "outputId": "84149597-7de1-4071-bf75-a3f7d48e37b0"
      },
      "execution_count": 17,
      "outputs": [
        {
          "output_type": "stream",
          "name": "stdout",
          "text": [
            "Here are some similar products to the black over-ear headphones shown in the image.  To give you the best suggestions, I need some more information about what aspects of the headphones are important to you.  However, I can suggest some general categories and examples:\n",
            "\n",
            "**Based on Appearance (Over-Ear, Black):**\n",
            "\n",
            "* **Other brands of similar style over-ear headphones:**  Look for over-ear headphones from brands like Sony, Bose, Sennheiser, Audio-Technica, Beats, JBL, Anker Soundcore, and others. Many offer similar designs in black.  Search online retailers (Amazon, Best Buy, etc.) using keywords like \"black over-ear headphones,\" \"noise-canceling headphones black,\" etc.  Pay attention to the size and overall shape of the earcups and headband as this varies across brands.\n",
            "* **Wireless vs. Wired:** The image doesn't show if this is a wired or wireless headphone. Make sure you specify your preference when searching.\n",
            "\n",
            "**Based on Potential Features (need to specify your preferences):**\n",
            "\n",
            "* **Noise-canceling:**  If noise cancellation is important, specify \"noise-canceling headphones\" in your searches.\n",
            "* **Wireless features:** If Bluetooth connectivity is needed, look for \"Bluetooth headphones.\"  Consider features like multipoint pairing (connecting to two devices simultaneously) or codec support (aptX, AAC).\n",
            "* **Sound quality:**  If you prioritize audio quality, read reviews before purchasing. Look for descriptions highlighting things like bass response, clarity, and frequency range.  Headphone reviews often mention this.\n",
            "* **Microphone:** If you'll be using them for calls, check for a built-in microphone and its quality in reviews.\n",
            "* **Comfort and fit:**  Headphone comfort varies greatly. Check reviews mentioning comfort, earcup size, headband pressure, and overall fit.\n",
            "\n",
            "**To get better recommendations, please tell me:**\n",
            "\n",
            "* **Do you need wireless or wired headphones?**\n",
            "* **Is noise cancellation a requirement?**\n",
            "* **What is your budget?**\n",
            "* **What type of audio do you usually listen to? (e.g., podcasts, music, audiobooks)**\n",
            "* **How important is microphone quality (for calls)?**\n",
            "\n",
            "With this information, I can provide more tailored and helpful suggestions.\n",
            "\n"
          ]
        }
      ]
    },
    {
      "cell_type": "code",
      "source": [
        "# Open an image containing a price\n",
        "\n",
        "image_path = \"invoice.jpg\"  # Change to your image file\n",
        "\n",
        "image = Image.open(image_path)\n",
        "\n",
        "# Ask Gemini AI to extract the price\n",
        "\n",
        "response = model.generate_content([\"Extract the price from this image.\", image])\n",
        "\n",
        "print(response.text)"
      ],
      "metadata": {
        "colab": {
          "base_uri": "https://localhost:8080/",
          "height": 34
        },
        "id": "7asQiUECwXPU",
        "outputId": "ed1a7fa1-9ab6-4e1e-f67d-74725c439a83"
      },
      "execution_count": 19,
      "outputs": [
        {
          "output_type": "stream",
          "name": "stdout",
          "text": [
            "The price of each item is $10.00.  The subtotal is $100.00, and the grand total, including 10% tax, is also $100.00.\n"
          ]
        }
      ]
    },
    {
      "cell_type": "code",
      "source": [
        "response = model.generate_content([\"Extract the price, currency, and any discounts from this image.\", image])\n",
        "\n",
        "print(response.text)\n",
        "\n",
        "\n",
        "\n",
        "\n"
      ],
      "metadata": {
        "colab": {
          "base_uri": "https://localhost:8080/",
          "height": 104
        },
        "id": "rHjHEKL6w-7e",
        "outputId": "2cb3fa7e-ae47-4375-d6bc-53f3e8610209"
      },
      "execution_count": 20,
      "outputs": [
        {
          "output_type": "stream",
          "name": "stdout",
          "text": [
            "Here's the extracted information from the image:\n",
            "\n",
            "* **Price:** $10.00 (per item)\n",
            "* **Currency:** USD ($)\n",
            "* **Discounts:** None.  There is a 10% tax, but no discounts are applied to the items.\n"
          ]
        }
      ]
    },
    {
      "cell_type": "code",
      "source": [
        "# Open an image for object recognition\n",
        "\n",
        "image_path = \"bicycle.jpg\"  # Change to your image file\n",
        "\n",
        "image = Image.open(image_path)\n",
        "\n",
        "# Ask Gemini AI to identify objects in the image\n",
        "\n",
        "response = model.generate_content([\"Identify all objects present in this image.\", image])\n",
        "\n",
        "print(response.text)\n",
        "\n",
        "\n",
        "\n",
        "\n"
      ],
      "metadata": {
        "colab": {
          "base_uri": "https://localhost:8080/",
          "height": 191
        },
        "id": "wAbYKSMGwqEr",
        "outputId": "2b9ba824-c221-4c87-f4e0-d0b882bb3529"
      },
      "execution_count": 22,
      "outputs": [
        {
          "output_type": "stream",
          "name": "stdout",
          "text": [
            "Here's a list of the objects present in the image:\n",
            "\n",
            "* **Two bicycles:** One is predominantly black and yellow, and the other is white.  Both appear to be mountain bikes or hybrid bicycles.\n",
            "* **Two men:** Riding the bicycles. One is wearing a blue shirt and camouflage shorts, the other a gray long-sleeved shirt and jeans and a red cap.\n",
            "* **A man in the background:** Sitting inside a building, appearing to be observing the cyclists.\n",
            "* **A motorcycle:** Parked near the edge of the frame.\n",
            "* **A building:**  A light beige building with a roll-up door and windows.\n",
            "* **Chairs:**  Visible inside the building.\n",
            "* **Street:** Wet asphalt street.\n",
            "* **Vegetation:** Some grass along the edge of the street.\n"
          ]
        }
      ]
    },
    {
      "cell_type": "code",
      "source": [
        "!pip install youtube-transcript-api pytube\n",
        "\n",
        "\n",
        "\n",
        "\n"
      ],
      "metadata": {
        "colab": {
          "base_uri": "https://localhost:8080/"
        },
        "id": "ctl8myCQzV9K",
        "outputId": "4b9360be-8aa8-4703-cb8e-95b18c9b7c38"
      },
      "execution_count": 24,
      "outputs": [
        {
          "output_type": "stream",
          "name": "stdout",
          "text": [
            "Collecting youtube-transcript-api\n",
            "  Downloading youtube_transcript_api-1.0.1-py3-none-any.whl.metadata (22 kB)\n",
            "Collecting pytube\n",
            "  Downloading pytube-15.0.0-py3-none-any.whl.metadata (5.0 kB)\n",
            "Requirement already satisfied: defusedxml<0.8.0,>=0.7.1 in /usr/local/lib/python3.11/dist-packages (from youtube-transcript-api) (0.7.1)\n",
            "Requirement already satisfied: requests in /usr/local/lib/python3.11/dist-packages (from youtube-transcript-api) (2.32.3)\n",
            "Requirement already satisfied: charset-normalizer<4,>=2 in /usr/local/lib/python3.11/dist-packages (from requests->youtube-transcript-api) (3.4.1)\n",
            "Requirement already satisfied: idna<4,>=2.5 in /usr/local/lib/python3.11/dist-packages (from requests->youtube-transcript-api) (3.10)\n",
            "Requirement already satisfied: urllib3<3,>=1.21.1 in /usr/local/lib/python3.11/dist-packages (from requests->youtube-transcript-api) (2.3.0)\n",
            "Requirement already satisfied: certifi>=2017.4.17 in /usr/local/lib/python3.11/dist-packages (from requests->youtube-transcript-api) (2025.1.31)\n",
            "Downloading youtube_transcript_api-1.0.1-py3-none-any.whl (1.9 MB)\n",
            "\u001b[2K   \u001b[90m━━━━━━━━━━━━━━━━━━━━━━━━━━━━━━━━━━━━━━━━\u001b[0m \u001b[32m1.9/1.9 MB\u001b[0m \u001b[31m21.5 MB/s\u001b[0m eta \u001b[36m0:00:00\u001b[0m\n",
            "\u001b[?25hDownloading pytube-15.0.0-py3-none-any.whl (57 kB)\n",
            "\u001b[2K   \u001b[90m━━━━━━━━━━━━━━━━━━━━━━━━━━━━━━━━━━━━━━━━\u001b[0m \u001b[32m57.6/57.6 kB\u001b[0m \u001b[31m4.2 MB/s\u001b[0m eta \u001b[36m0:00:00\u001b[0m\n",
            "\u001b[?25hInstalling collected packages: pytube, youtube-transcript-api\n",
            "Successfully installed pytube-15.0.0 youtube-transcript-api-1.0.1\n"
          ]
        }
      ]
    },
    {
      "cell_type": "code",
      "source": [
        "from youtube_transcript_api import YouTubeTranscriptApi\n",
        "\n",
        "def get_youtube_transcript(video_url):\n",
        "\n",
        "    \"\"\"Fetches the transcript of a YouTube video.\"\"\"\n",
        "\n",
        "    video_id = video_url.split(\"v=\")[1].split(\"&\")[0]  # Extract video ID\n",
        "\n",
        "    transcript = YouTubeTranscriptApi.get_transcript(video_id)\n",
        "\n",
        "    full_text = \" \".join([t[\"text\"] for t in transcript])\n",
        "\n",
        "    return full_text\n",
        "\n",
        "# Example Usage\n",
        "\n",
        "video_url = \"https://www.youtube.com/watch?v=unYDoA8QGH0&list=PLWEpztHwA4ZT2QlHC74oIz4MsawcvE-QX\"\n",
        "\n",
        "video_transcript = get_youtube_transcript(video_url)\n",
        "\n",
        "print(\"Transcript:\\n\", video_transcript[:500])  # Show first 500 characters\n",
        "\n",
        "\n",
        "\n",
        "\n"
      ],
      "metadata": {
        "colab": {
          "base_uri": "https://localhost:8080/"
        },
        "id": "pUjgohtazmnX",
        "outputId": "33b2753a-6c77-4ac9-e5a2-bee85346df7e"
      },
      "execution_count": 25,
      "outputs": [
        {
          "output_type": "stream",
          "name": "stdout",
          "text": [
            "Transcript:\n",
            " hi guys today I'm going to introduce you what is machine learning uh these are my presentation content what is machine learning what are the different applications of machine learning different types of machine learning and how to build a machine learning system or model then various kinds of algorithms and later on in this series we are going to take a Hands-On you know case studies or doing programming for various kinds of up algorithms so what is machine learning so machine learning is nothin\n"
          ]
        }
      ]
    },
    {
      "cell_type": "code",
      "source": [
        "def summarize_video(text):\n",
        "\n",
        "    \"\"\"Summarizes the YouTube video transcript using Gemini AI.\"\"\"\n",
        "\n",
        "    model = genai.GenerativeModel(\"gemini-1.5-flash\")\n",
        "\n",
        "    prompt = f\"Summarize the following YouTube video transcript:\\n\\n{text}\"\n",
        "\n",
        "    response = model.generate_content(prompt)\n",
        "\n",
        "    return response.text\n",
        "\n",
        "summary = summarize_video(video_transcript)\n",
        "\n",
        "print(\"Summary:\\n\", summary)\n",
        "\n",
        "\n",
        "\n",
        "\n"
      ],
      "metadata": {
        "colab": {
          "base_uri": "https://localhost:8080/",
          "height": 315
        },
        "id": "90pYQxJZz2hh",
        "outputId": "ce858301-c807-4bb9-82c0-70737e50aacb"
      },
      "execution_count": 26,
      "outputs": [
        {
          "output_type": "stream",
          "name": "stdout",
          "text": [
            "Summary:\n",
            " This YouTube video lecture introduces machine learning (ML), a subfield of artificial intelligence focused on learning from data.  The speaker explains that ML uses training data (past experiences) to build models that predict future events.  Key concepts covered include:\n",
            "\n",
            "* **What is Machine Learning?**  It's the process of enabling computers to learn from data without explicit programming, improving their performance over time.  Arthur Samuel's definition is cited.\n",
            "\n",
            "* **Applications of Machine Learning:**  The speaker highlights numerous applications across various domains, including speech recognition (Siri, Google Now), web search engines, recommendation systems, computer vision (image and video analysis), information retrieval (e.g., Google search), and fraud detection.\n",
            "\n",
            "* **Types of Machine Learning:** The video details three main types:\n",
            "    * **Supervised learning:** The training data is labeled, allowing the model to learn the relationship between input and output (e.g., classifying emails as spam or not spam).  This includes classification (categorical output) and regression (continuous output).\n",
            "    * **Unsupervised learning:** The training data is unlabeled, and the model aims to discover patterns and structure in the data (e.g., customer segmentation through clustering).\n",
            "    * **Reinforcement learning:** An agent learns through trial and error in an environment, receiving rewards or penalties based on its actions (e.g., game playing, robotics).\n",
            "\n",
            "* **Building a Machine Learning Model:** The process involves data preprocessing (cleaning, scaling, encoding, feature selection), algorithm selection (choosing appropriate algorithms like decision trees or random forests), model building, and model evaluation (assessing accuracy).  The speaker emphasizes building multiple models for comparative analysis.\n",
            "\n",
            "The speaker promises hands-on case studies and programming examples in future videos, focusing on practical implementation of various algorithms and techniques discussed.  Basic terminology like features, attributes, samples, target variables, and the Iris dataset are also introduced.\n",
            "\n"
          ]
        }
      ]
    },
    {
      "cell_type": "code",
      "source": [
        "def analyze_sentiment(text):\n",
        "\n",
        "    \"\"\"Performs sentiment analysis on the YouTube video transcript.\"\"\"\n",
        "\n",
        "    model = genai.GenerativeModel(\"gemini-1.5-flash\")\n",
        "\n",
        "    prompt = f\"Analyze the sentiment of this YouTube video transcript. Is it positive, negative, or neutral?\\n\\n{text}\"\n",
        "\n",
        "    response = model.generate_content(prompt)\n",
        "\n",
        "    return response.text\n",
        "\n",
        "sentiment = analyze_sentiment(video_transcript)\n",
        "\n",
        "print(\"Sentiment Analysis:\\n\", sentiment)\n",
        "\n",
        "\n",
        "\n",
        "\n"
      ],
      "metadata": {
        "colab": {
          "base_uri": "https://localhost:8080/",
          "height": 211
        },
        "id": "SKxACZDM0qo1",
        "outputId": "4223a10c-9b0a-4236-ea0a-8311c7783a64"
      },
      "execution_count": 27,
      "outputs": [
        {
          "output_type": "stream",
          "name": "stdout",
          "text": [
            "Sentiment Analysis:\n",
            " The sentiment of the YouTube video transcript is overwhelmingly **positive**.  The speaker is enthusiastic and encouraging throughout.  Key indicators of positive sentiment include:\n",
            "\n",
            "* **Enthusiastic tone:** The speaker uses phrases like \"very smarter applications,\" \"growing a lot,\" and \"very good\" to express excitement about machine learning.\n",
            "* **Helpful and informative approach:** The transcript demonstrates a clear intention to educate and empower the viewer with knowledge about machine learning.  The speaker breaks down complex concepts into simpler terms and provides clear explanations.\n",
            "* **Promise of future learning:** The speaker repeatedly mentions future classes and hands-on exercises, creating anticipation and a sense of progress for the viewer.\n",
            "* **Addressing potential challenges proactively:** The speaker acknowledges potential difficulties (e.g., unclean data, choosing the right algorithm) and offers solutions, fostering a sense of confidence and support.\n",
            "\n",
            "While there are no overtly negative statements, the overall tone is geared towards inspiring interest and facilitating learning, thus making the sentiment clearly positive.\n",
            "\n"
          ]
        }
      ]
    },
    {
      "cell_type": "code",
      "source": [],
      "metadata": {
        "id": "rCLTvmN-3cxo"
      },
      "execution_count": null,
      "outputs": []
    }
  ]
}