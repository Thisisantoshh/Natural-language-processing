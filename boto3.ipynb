{
  "nbformat": 4,
  "nbformat_minor": 0,
  "metadata": {
    "colab": {
      "provenance": [],
      "authorship_tag": "ABX9TyP4oRhWNpd2aOWfWiVoSlXM",
      "include_colab_link": true
    },
    "kernelspec": {
      "name": "python3",
      "display_name": "Python 3"
    },
    "language_info": {
      "name": "python"
    }
  },
  "cells": [
    {
      "cell_type": "markdown",
      "metadata": {
        "id": "view-in-github",
        "colab_type": "text"
      },
      "source": [
        "<a href=\"https://colab.research.google.com/github/Thisisantoshh/Natural-language-processing/blob/main/boto3.ipynb\" target=\"_parent\"><img src=\"https://colab.research.google.com/assets/colab-badge.svg\" alt=\"Open In Colab\"/></a>"
      ]
    },
    {
      "cell_type": "code",
      "execution_count": 8,
      "metadata": {
        "colab": {
          "base_uri": "https://localhost:8080/"
        },
        "id": "UDA-PlL8bQos",
        "outputId": "8f2d7abe-e4d8-420d-d5c2-c532ef45e6f8"
      },
      "outputs": [
        {
          "output_type": "stream",
          "name": "stdout",
          "text": [
            "Requirement already satisfied: boto3 in /usr/local/lib/python3.11/dist-packages (1.37.17)\n",
            "Requirement already satisfied: botocore<1.38.0,>=1.37.17 in /usr/local/lib/python3.11/dist-packages (from boto3) (1.37.17)\n",
            "Requirement already satisfied: jmespath<2.0.0,>=0.7.1 in /usr/local/lib/python3.11/dist-packages (from boto3) (1.0.1)\n",
            "Requirement already satisfied: s3transfer<0.12.0,>=0.11.0 in /usr/local/lib/python3.11/dist-packages (from boto3) (0.11.4)\n",
            "Requirement already satisfied: python-dateutil<3.0.0,>=2.1 in /usr/local/lib/python3.11/dist-packages (from botocore<1.38.0,>=1.37.17->boto3) (2.8.2)\n",
            "Requirement already satisfied: urllib3!=2.2.0,<3,>=1.25.4 in /usr/local/lib/python3.11/dist-packages (from botocore<1.38.0,>=1.37.17->boto3) (2.3.0)\n",
            "Requirement already satisfied: six>=1.5 in /usr/local/lib/python3.11/dist-packages (from python-dateutil<3.0.0,>=2.1->botocore<1.38.0,>=1.37.17->boto3) (1.17.0)\n"
          ]
        }
      ],
      "source": [
        " !pip install boto3"
      ]
    },
    {
      "cell_type": "code",
      "source": [
        "import boto3\n",
        "s3=boto3.client(\"s3\")"
      ],
      "metadata": {
        "id": "r3o9AY1EbVc1"
      },
      "execution_count": 9,
      "outputs": []
    },
    {
      "cell_type": "code",
      "source": [
        "#!pip install awscli\n",
        "#to run below code you need to login aws console uing credit/debit card and configure it in your local system\n",
        "#to work in local environment download this application https://awscli.amazonaws.com/AWSCLIV2.msi"
      ],
      "metadata": {
        "id": "hfwIBk77bi0w"
      },
      "execution_count": 10,
      "outputs": []
    },
    {
      "cell_type": "code",
      "source": [
        "import boto3\n",
        "s3 = boto3.client('s3')"
      ],
      "metadata": {
        "id": "sZqRfj-yc5fZ"
      },
      "execution_count": 11,
      "outputs": []
    },
    {
      "cell_type": "code",
      "source": [
        "try:\n",
        "  bucket_name = 'mynlpmru'\n",
        "  s3.create_bucket(\n",
        "      Bucket=bucket_name,\n",
        "      CreateBucketConfiguration={\n",
        "          \"LocationConstraint\":\"eu-north-1\"\n",
        "      }\n",
        "  )\n",
        "  print(f\"Bucket '{bucket_name}' created successfully!\")\n",
        "except Exception as e:\n",
        "  print(f\"Error creating bucket: {e}\")"
      ],
      "metadata": {
        "colab": {
          "base_uri": "https://localhost:8080/"
        },
        "id": "j4RUvTHUjlfy",
        "outputId": "eab4b0e1-acbe-4858-a2e5-2da339e411da"
      },
      "execution_count": 12,
      "outputs": [
        {
          "output_type": "stream",
          "name": "stdout",
          "text": [
            "Error creating bucket: Unable to locate credentials\n"
          ]
        }
      ]
    },
    {
      "cell_type": "code",
      "source": [
        "try:\n",
        "  response = s3.list_buckets()\n",
        "  print(\"Existing Buckets:\")\n",
        "  for bucket in response[\"Buckets\"]:\n",
        "    print(f\"- {bucket['Name']}\")\n",
        "except Exception as e:\n",
        "  print(f\"Error listing buckets: {e}\")"
      ],
      "metadata": {
        "colab": {
          "base_uri": "https://localhost:8080/"
        },
        "id": "_3NwQiiCjo7t",
        "outputId": "749af5d9-3b04-4cac-a5f6-18a6473825d8"
      },
      "execution_count": 13,
      "outputs": [
        {
          "output_type": "stream",
          "name": "stdout",
          "text": [
            "Error listing buckets: Unable to locate credentials\n"
          ]
        }
      ]
    },
    {
      "cell_type": "code",
      "source": [
        "try:\n",
        "  #upload a file\n",
        "  s3.upload_file(\"test.txt\",\"mynlpmru\",\"data/testfile.txt\")\n",
        "  print(\"Upload complete!\")\n",
        "except Exception as e:\n",
        "  print(f\"Error uploading file: {e}\")"
      ],
      "metadata": {
        "colab": {
          "base_uri": "https://localhost:8080/"
        },
        "id": "8RFCK9YOjsbq",
        "outputId": "ecb1adae-3cc4-4db9-f504-5f5a83c7ba5f"
      },
      "execution_count": 14,
      "outputs": [
        {
          "output_type": "stream",
          "name": "stdout",
          "text": [
            "Error uploading file: [Errno 2] No such file or directory: 'test.txt'\n"
          ]
        }
      ]
    },
    {
      "cell_type": "code",
      "source": [
        "try:\n",
        "  s3.download_file(\"mynlpmru\", \"data/testfile1.txt\", \"downloaded_test3.txt\")\n",
        "  print(\"Download successful!\")\n",
        "except Exception as e:\n",
        "  print(f\"Error while downloading:{e}\")"
      ],
      "metadata": {
        "colab": {
          "base_uri": "https://localhost:8080/"
        },
        "id": "rUB1U47Kjv7y",
        "outputId": "c5cc42c2-289d-4ef7-ef79-75abfd8fa221"
      },
      "execution_count": 15,
      "outputs": [
        {
          "output_type": "stream",
          "name": "stdout",
          "text": [
            "Error while downloading:Unable to locate credentials\n"
          ]
        }
      ]
    },
    {
      "cell_type": "code",
      "source": [
        "try:\n",
        "  response = s3.list_objects_v2(Bucket='mynlpmru30')\n",
        "  print(\"File in bucket:\")\n",
        "  if \"Contents\" in response:\n",
        "    for obj in response[\"Contents\"]:\n",
        "      print(f\"-{obj['key']}(Size:{obj['Size']} bytes)\")\n",
        "  else:\n",
        "    print(\"Bucket is empty\")\n",
        "except Exception as e:\n",
        "  print(f\"Error listing objects: {e}\")"
      ],
      "metadata": {
        "colab": {
          "base_uri": "https://localhost:8080/"
        },
        "id": "ZyjEAxJ-jzQO",
        "outputId": "012bfc8f-2b99-4428-e33a-1b8e780ccacb"
      },
      "execution_count": 16,
      "outputs": [
        {
          "output_type": "stream",
          "name": "stdout",
          "text": [
            "Error listing objects: Unable to locate credentials\n"
          ]
        }
      ]
    },
    {
      "cell_type": "code",
      "source": [
        "try:\n",
        "  s3.delete_object(Bucket=\"mynlpmru\", Key=\"data/testfile1.txt\")\n",
        "  print(\"File deleted successfully!\")\n",
        "except Exception as e:\n",
        "  print(f\"Error deleting file: {e}\")"
      ],
      "metadata": {
        "colab": {
          "base_uri": "https://localhost:8080/"
        },
        "id": "gamY3qunj1wX",
        "outputId": "69887a09-bf64-4e0b-e160-4086ea6ef2c6"
      },
      "execution_count": 17,
      "outputs": [
        {
          "output_type": "stream",
          "name": "stdout",
          "text": [
            "Error deleting file: Unable to locate credentials\n"
          ]
        }
      ]
    },
    {
      "cell_type": "code",
      "source": [
        "try:\n",
        "  s3.put_bucket_versioning(\n",
        "    Bucket=\"mynlpmru\",\n",
        "    VersioningConfiguration={\"Status\": \"Enabled\"}\n",
        "  )\n",
        "  print(\"Bucket versioning enabled.\")\n",
        "except Exception as e:\n",
        "  print(f\"Error enabling versioning: {e}\")"
      ],
      "metadata": {
        "colab": {
          "base_uri": "https://localhost:8080/"
        },
        "id": "yrvPHW-Gj33f",
        "outputId": "04f3c126-cfe2-4386-db9f-d8bf8c09e6e2"
      },
      "execution_count": 18,
      "outputs": [
        {
          "output_type": "stream",
          "name": "stdout",
          "text": [
            "Error enabling versioning: Unable to locate credentials\n"
          ]
        }
      ]
    },
    {
      "cell_type": "code",
      "source": [
        "try:\n",
        "  copy_source = {\"Bucket\": \"mynlpmru\", \"Key\": \"data/testfile.txt\"}\n",
        "  s3.copy_object(CopySource=copy_source, Bucket=\"mynlpmru\", Key=\"data/copied_testfile3.txt\")\n",
        "  print(\"File copied successfully.\")\n",
        "except Exception as e:\n",
        "  print(f\"Error copying file: {e}\")"
      ],
      "metadata": {
        "colab": {
          "base_uri": "https://localhost:8080/"
        },
        "id": "0rPU_dVVj6Nh",
        "outputId": "c4baae93-c03f-491b-ebd0-f74eb0d9758e"
      },
      "execution_count": 19,
      "outputs": [
        {
          "output_type": "stream",
          "name": "stdout",
          "text": [
            "Error copying file: Unable to locate credentials\n"
          ]
        }
      ]
    }
  ]
}