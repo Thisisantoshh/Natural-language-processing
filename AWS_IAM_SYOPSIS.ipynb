{
  "nbformat": 4,
  "nbformat_minor": 0,
  "metadata": {
    "colab": {
      "provenance": [],
      "authorship_tag": "ABX9TyNTuW1OCcow1WVZU4LTSqmj",
      "include_colab_link": true
    },
    "kernelspec": {
      "name": "python3",
      "display_name": "Python 3"
    },
    "language_info": {
      "name": "python"
    }
  },
  "cells": [
    {
      "cell_type": "markdown",
      "metadata": {
        "id": "view-in-github",
        "colab_type": "text"
      },
      "source": [
        "<a href=\"https://colab.research.google.com/github/Thisisantoshh/Natural-language-processing/blob/main/AWS_IAM_SYOPSIS.ipynb\" target=\"_parent\"><img src=\"https://colab.research.google.com/assets/colab-badge.svg\" alt=\"Open In Colab\"/></a>"
      ]
    },
    {
      "cell_type": "code",
      "execution_count": null,
      "metadata": {
        "id": "9qBAyQZ8Hqkn"
      },
      "outputs": [],
      "source": [
        "1.Created AWS account\n",
        "2.Login into the AWS account\n",
        "3.Created a Lab\n",
        "4.Explored AWS IAM\n",
        "5.Created User Groups\n",
        "6.Created User"
      ]
    }
  ]
}